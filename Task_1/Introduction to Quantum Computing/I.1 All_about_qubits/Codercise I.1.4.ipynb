{
 "cells": [
  {
   "cell_type": "code",
   "execution_count": null,
   "id": "d960060e-2374-420b-b3df-6dfee1faa67f",
   "metadata": {},
   "outputs": [],
   "source": [
    "U = np.array([[1, 1], [1, -1]]) / np.sqrt(2)\n",
    "\n",
    "def apply_u(state):\n",
    "    \"\"\"Apply a quantum operation.\n",
    "    Args:\n",
    "        state (np.array[complex]): A normalized quantum state vector.\n",
    "    Returns:\n",
    "        np.array[complex]: The output state after applying U.\n",
    "    \"\"\"\n",
    "    ##################\n",
    "    # YOUR CODE HERE #\n",
    "    ##################\n",
    "    # Define state\n",
    "    state = np.array(state)\n",
    "    # Normalize the state\n",
    "    #norm = np.sqrt(np.abs(alpha)**2 + np.abs(beta)**2)\n",
    "    #normalized_state = np.array([alpha/norm, beta/norm])\n",
    "    # Definition of the Unitary matrix\n",
    "    U = np.array([[1, 1], [1, -1]]) / np.sqrt(2)\n",
    "\n",
    "    # APPLY U TO THE INPUT STATE AND RETURN THE NEW STATE\n",
    "    #pass\n",
    "    return np.dot(U, state)"
   ]
  }
 ],
 "metadata": {
  "kernelspec": {
   "display_name": "Python 3 (ipykernel)",
   "language": "python",
   "name": "python3"
  },
  "language_info": {
   "codemirror_mode": {
    "name": "ipython",
    "version": 3
   },
   "file_extension": ".py",
   "mimetype": "text/x-python",
   "name": "python",
   "nbconvert_exporter": "python",
   "pygments_lexer": "ipython3",
   "version": "3.11.4"
  }
 },
 "nbformat": 4,
 "nbformat_minor": 5
}
